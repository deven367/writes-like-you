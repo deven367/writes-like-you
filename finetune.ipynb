{
 "cells": [
  {
   "cell_type": "code",
   "execution_count": null,
   "metadata": {
    "colab": {
     "base_uri": "https://localhost:8080/"
    },
    "id": "3AQZNnXQKirA",
    "outputId": "7d3d7688-5b61-4956-d3a6-e71b4d360fe4"
   },
   "outputs": [
    {
     "name": "stdout",
     "output_type": "stream",
     "text": [
      "\u001b[K     |████████████████████████████████| 187 kB 5.2 MB/s \n",
      "\u001b[K     |████████████████████████████████| 3.8 MB 45.5 MB/s \n",
      "\u001b[K     |████████████████████████████████| 49 kB 5.8 MB/s \n",
      "\u001b[K     |████████████████████████████████| 56 kB 4.6 MB/s \n",
      "\u001b[K     |████████████████████████████████| 596 kB 46.3 MB/s \n",
      "\u001b[K     |████████████████████████████████| 67 kB 5.1 MB/s \n",
      "\u001b[K     |████████████████████████████████| 6.5 MB 36.7 MB/s \n",
      "\u001b[K     |████████████████████████████████| 895 kB 45.1 MB/s \n",
      "\u001b[K     |████████████████████████████████| 51 kB 344 kB/s \n",
      "\u001b[K     |████████████████████████████████| 561 kB 34.0 MB/s \n",
      "\u001b[K     |████████████████████████████████| 130 kB 35.7 MB/s \n",
      "\u001b[?25h"
     ]
    }
   ],
   "source": [
    "!pip install -Uqq fastai transformers nbdev"
   ]
  },
  {
   "cell_type": "code",
   "execution_count": null,
   "metadata": {
    "colab": {
     "base_uri": "https://localhost:8080/",
     "height": 35
    },
    "id": "I9Dvqt3zVta8",
    "outputId": "ae321e2c-a7ee-4c0a-d1e6-2188b5562488"
   },
   "outputs": [
    {
     "data": {
      "application/vnd.google.colaboratory.intrinsic+json": {
       "type": "string"
      },
      "text/plain": [
       "'2.5.5'"
      ]
     },
     "execution_count": 2,
     "metadata": {},
     "output_type": "execute_result"
    }
   ],
   "source": [
    "import nbdev\n",
    "import fastai\n",
    "from fastai import *\n",
    "from nbdev.showdoc import *\n",
    "import pandas as pd\n",
    "fastai.__version__"
   ]
  },
  {
   "cell_type": "markdown",
   "metadata": {},
   "source": [
    "Add the `csv` file created from the `notion.py`."
   ]
  },
  {
   "cell_type": "code",
   "execution_count": null,
   "metadata": {
    "id": "ZCaXgc5gOmV8"
   },
   "outputs": [],
   "source": [
    "df = pd.read_csv('data.csv', infer_datetime_format=True, parse_dates = ['ts'])"
   ]
  },
  {
   "cell_type": "code",
   "execution_count": null,
   "metadata": {
    "colab": {
     "base_uri": "https://localhost:8080/",
     "height": 423
    },
    "id": "Zyfz_6yWPUpD",
    "outputId": "f9530d52-9b73-4d48-8b57-f291e2a8a3ad"
   },
   "outputs": [
    {
     "data": {
      "text/html": [
       "\n",
       "  <div id=\"df-137311a8-9e4d-43a7-8647-dbd85d001679\">\n",
       "    <div class=\"colab-df-container\">\n",
       "      <div>\n",
       "<style scoped>\n",
       "    .dataframe tbody tr th:only-of-type {\n",
       "        vertical-align: middle;\n",
       "    }\n",
       "\n",
       "    .dataframe tbody tr th {\n",
       "        vertical-align: top;\n",
       "    }\n",
       "\n",
       "    .dataframe thead th {\n",
       "        text-align: right;\n",
       "    }\n",
       "</style>\n",
       "<table border=\"1\" class=\"dataframe\">\n",
       "  <thead>\n",
       "    <tr style=\"text-align: right;\">\n",
       "      <th></th>\n",
       "      <th>id</th>\n",
       "      <th>ts</th>\n",
       "      <th>date</th>\n",
       "      <th>text</th>\n",
       "    </tr>\n",
       "  </thead>\n",
       "  <tbody>\n",
       "    <tr>\n",
       "      <th>0</th>\n",
       "      <td>7edba87f-c83d-4064-a7a8-308ea0c788bf</td>\n",
       "      <td>2021-05-07 02:38:00+00:00</td>\n",
       "      <td>2021-05-07</td>\n",
       "      <td>The days have been really tiring since the las...</td>\n",
       "    </tr>\n",
       "    <tr>\n",
       "      <th>1</th>\n",
       "      <td>baa20972-8e4b-4d4b-b0bc-9ee029c49a73</td>\n",
       "      <td>2021-05-07 20:16:00+00:00</td>\n",
       "      <td>2021-05-07</td>\n",
       "      <td>I started feeling a bit overwhelmed once Denni...</td>\n",
       "    </tr>\n",
       "    <tr>\n",
       "      <th>2</th>\n",
       "      <td>25fea619-8292-4228-b878-2f383b0a938b</td>\n",
       "      <td>2021-05-11 15:54:00+00:00</td>\n",
       "      <td>2021-05-11</td>\n",
       "      <td>There is a lot of work that I need to do today...</td>\n",
       "    </tr>\n",
       "    <tr>\n",
       "      <th>3</th>\n",
       "      <td>1bded946-e5f6-4529-859b-a71a5aab807d</td>\n",
       "      <td>2021-05-13 03:39:00+00:00</td>\n",
       "      <td>2021-05-13</td>\n",
       "      <td>This day has been a bit different. I will uplo...</td>\n",
       "    </tr>\n",
       "    <tr>\n",
       "      <th>4</th>\n",
       "      <td>35580de6-106a-4512-9684-9d7285df5dd9</td>\n",
       "      <td>2021-05-13 13:10:00+00:00</td>\n",
       "      <td>2021-05-13</td>\n",
       "      <td>I have luckily started my day a bit early. I w...</td>\n",
       "    </tr>\n",
       "    <tr>\n",
       "      <th>...</th>\n",
       "      <td>...</td>\n",
       "      <td>...</td>\n",
       "      <td>...</td>\n",
       "      <td>...</td>\n",
       "    </tr>\n",
       "    <tr>\n",
       "      <th>252</th>\n",
       "      <td>cc5e3d79-ac8e-427c-ad8a-94c1b435776f</td>\n",
       "      <td>2022-03-20 03:14:00+00:00</td>\n",
       "      <td>2022-03-20</td>\n",
       "      <td>What is the reason behind drowning myself in w...</td>\n",
       "    </tr>\n",
       "    <tr>\n",
       "      <th>253</th>\n",
       "      <td>707dfa55-2c88-41cc-a3b9-1253c2e335fa</td>\n",
       "      <td>2022-03-21 02:33:00+00:00</td>\n",
       "      <td>2022-03-21</td>\n",
       "      <td>Quite a different day today. I ate a lot. I ha...</td>\n",
       "    </tr>\n",
       "    <tr>\n",
       "      <th>254</th>\n",
       "      <td>d21af4b0-eef7-4bcb-9a9e-905ce0d88cc6</td>\n",
       "      <td>2022-03-22 18:23:00+00:00</td>\n",
       "      <td>2022-03-22</td>\n",
       "      <td>I don’t know I feel a little agitated after ta...</td>\n",
       "    </tr>\n",
       "    <tr>\n",
       "      <th>255</th>\n",
       "      <td>9df7adf7-c275-4d3d-9d02-4433b94f13fb</td>\n",
       "      <td>2022-03-24 01:34:00+00:00</td>\n",
       "      <td>2022-03-24</td>\n",
       "      <td>It is Tejas’ birthday today. I wished him and ...</td>\n",
       "    </tr>\n",
       "    <tr>\n",
       "      <th>256</th>\n",
       "      <td>b81081de-c001-4576-b773-4f4669843f52</td>\n",
       "      <td>2022-03-24 16:02:00+00:00</td>\n",
       "      <td>2022-03-24</td>\n",
       "      <td>Feeling a little lost which such an open ended...</td>\n",
       "    </tr>\n",
       "  </tbody>\n",
       "</table>\n",
       "<p>257 rows × 4 columns</p>\n",
       "</div>\n",
       "      <button class=\"colab-df-convert\" onclick=\"convertToInteractive('df-137311a8-9e4d-43a7-8647-dbd85d001679')\"\n",
       "              title=\"Convert this dataframe to an interactive table.\"\n",
       "              style=\"display:none;\">\n",
       "        \n",
       "  <svg xmlns=\"http://www.w3.org/2000/svg\" height=\"24px\"viewBox=\"0 0 24 24\"\n",
       "       width=\"24px\">\n",
       "    <path d=\"M0 0h24v24H0V0z\" fill=\"none\"/>\n",
       "    <path d=\"M18.56 5.44l.94 2.06.94-2.06 2.06-.94-2.06-.94-.94-2.06-.94 2.06-2.06.94zm-11 1L8.5 8.5l.94-2.06 2.06-.94-2.06-.94L8.5 2.5l-.94 2.06-2.06.94zm10 10l.94 2.06.94-2.06 2.06-.94-2.06-.94-.94-2.06-.94 2.06-2.06.94z\"/><path d=\"M17.41 7.96l-1.37-1.37c-.4-.4-.92-.59-1.43-.59-.52 0-1.04.2-1.43.59L10.3 9.45l-7.72 7.72c-.78.78-.78 2.05 0 2.83L4 21.41c.39.39.9.59 1.41.59.51 0 1.02-.2 1.41-.59l7.78-7.78 2.81-2.81c.8-.78.8-2.07 0-2.86zM5.41 20L4 18.59l7.72-7.72 1.47 1.35L5.41 20z\"/>\n",
       "  </svg>\n",
       "      </button>\n",
       "      \n",
       "  <style>\n",
       "    .colab-df-container {\n",
       "      display:flex;\n",
       "      flex-wrap:wrap;\n",
       "      gap: 12px;\n",
       "    }\n",
       "\n",
       "    .colab-df-convert {\n",
       "      background-color: #E8F0FE;\n",
       "      border: none;\n",
       "      border-radius: 50%;\n",
       "      cursor: pointer;\n",
       "      display: none;\n",
       "      fill: #1967D2;\n",
       "      height: 32px;\n",
       "      padding: 0 0 0 0;\n",
       "      width: 32px;\n",
       "    }\n",
       "\n",
       "    .colab-df-convert:hover {\n",
       "      background-color: #E2EBFA;\n",
       "      box-shadow: 0px 1px 2px rgba(60, 64, 67, 0.3), 0px 1px 3px 1px rgba(60, 64, 67, 0.15);\n",
       "      fill: #174EA6;\n",
       "    }\n",
       "\n",
       "    [theme=dark] .colab-df-convert {\n",
       "      background-color: #3B4455;\n",
       "      fill: #D2E3FC;\n",
       "    }\n",
       "\n",
       "    [theme=dark] .colab-df-convert:hover {\n",
       "      background-color: #434B5C;\n",
       "      box-shadow: 0px 1px 3px 1px rgba(0, 0, 0, 0.15);\n",
       "      filter: drop-shadow(0px 1px 2px rgba(0, 0, 0, 0.3));\n",
       "      fill: #FFFFFF;\n",
       "    }\n",
       "  </style>\n",
       "\n",
       "      <script>\n",
       "        const buttonEl =\n",
       "          document.querySelector('#df-137311a8-9e4d-43a7-8647-dbd85d001679 button.colab-df-convert');\n",
       "        buttonEl.style.display =\n",
       "          google.colab.kernel.accessAllowed ? 'block' : 'none';\n",
       "\n",
       "        async function convertToInteractive(key) {\n",
       "          const element = document.querySelector('#df-137311a8-9e4d-43a7-8647-dbd85d001679');\n",
       "          const dataTable =\n",
       "            await google.colab.kernel.invokeFunction('convertToInteractive',\n",
       "                                                     [key], {});\n",
       "          if (!dataTable) return;\n",
       "\n",
       "          const docLinkHtml = 'Like what you see? Visit the ' +\n",
       "            '<a target=\"_blank\" href=https://colab.research.google.com/notebooks/data_table.ipynb>data table notebook</a>'\n",
       "            + ' to learn more about interactive tables.';\n",
       "          element.innerHTML = '';\n",
       "          dataTable['output_type'] = 'display_data';\n",
       "          await google.colab.output.renderOutput(dataTable, element);\n",
       "          const docLink = document.createElement('div');\n",
       "          docLink.innerHTML = docLinkHtml;\n",
       "          element.appendChild(docLink);\n",
       "        }\n",
       "      </script>\n",
       "    </div>\n",
       "  </div>\n",
       "  "
      ],
      "text/plain": [
       "                                       id                        ts  \\\n",
       "0    7edba87f-c83d-4064-a7a8-308ea0c788bf 2021-05-07 02:38:00+00:00   \n",
       "1    baa20972-8e4b-4d4b-b0bc-9ee029c49a73 2021-05-07 20:16:00+00:00   \n",
       "2    25fea619-8292-4228-b878-2f383b0a938b 2021-05-11 15:54:00+00:00   \n",
       "3    1bded946-e5f6-4529-859b-a71a5aab807d 2021-05-13 03:39:00+00:00   \n",
       "4    35580de6-106a-4512-9684-9d7285df5dd9 2021-05-13 13:10:00+00:00   \n",
       "..                                    ...                       ...   \n",
       "252  cc5e3d79-ac8e-427c-ad8a-94c1b435776f 2022-03-20 03:14:00+00:00   \n",
       "253  707dfa55-2c88-41cc-a3b9-1253c2e335fa 2022-03-21 02:33:00+00:00   \n",
       "254  d21af4b0-eef7-4bcb-9a9e-905ce0d88cc6 2022-03-22 18:23:00+00:00   \n",
       "255  9df7adf7-c275-4d3d-9d02-4433b94f13fb 2022-03-24 01:34:00+00:00   \n",
       "256  b81081de-c001-4576-b773-4f4669843f52 2022-03-24 16:02:00+00:00   \n",
       "\n",
       "           date                                               text  \n",
       "0    2021-05-07  The days have been really tiring since the las...  \n",
       "1    2021-05-07  I started feeling a bit overwhelmed once Denni...  \n",
       "2    2021-05-11  There is a lot of work that I need to do today...  \n",
       "3    2021-05-13  This day has been a bit different. I will uplo...  \n",
       "4    2021-05-13  I have luckily started my day a bit early. I w...  \n",
       "..          ...                                                ...  \n",
       "252  2022-03-20  What is the reason behind drowning myself in w...  \n",
       "253  2022-03-21  Quite a different day today. I ate a lot. I ha...  \n",
       "254  2022-03-22  I don’t know I feel a little agitated after ta...  \n",
       "255  2022-03-24  It is Tejas’ birthday today. I wished him and ...  \n",
       "256  2022-03-24  Feeling a little lost which such an open ended...  \n",
       "\n",
       "[257 rows x 4 columns]"
      ]
     },
     "execution_count": 16,
     "metadata": {},
     "output_type": "execute_result"
    }
   ],
   "source": [
    "df"
   ]
  },
  {
   "cell_type": "code",
   "execution_count": null,
   "metadata": {
    "id": "OmzLnHOUKFSi"
   },
   "outputs": [],
   "source": [
    "from fastai.text.all import *"
   ]
  },
  {
   "cell_type": "code",
   "execution_count": null,
   "metadata": {
    "id": "dw7jfFN9Rou2"
   },
   "outputs": [],
   "source": [
    "dls = TextDataLoaders.from_df(df=df, text_col='text', is_lm=True)"
   ]
  },
  {
   "cell_type": "code",
   "execution_count": null,
   "metadata": {
    "id": "AxgjiImGU6yQ"
   },
   "outputs": [],
   "source": [
    "dls.show_batch()"
   ]
  },
  {
   "cell_type": "code",
   "execution_count": null,
   "metadata": {
    "id": "0VJU_RsMSvIQ"
   },
   "outputs": [],
   "source": [
    "show_doc(language_model_learner)"
   ]
  },
  {
   "cell_type": "code",
   "execution_count": null,
   "metadata": {
    "colab": {
     "base_uri": "https://localhost:8080/",
     "height": 37
    },
    "id": "SW_N7V8MKSB8",
    "outputId": "04067023-d5b9-437a-a0d4-ed3d016dbb32"
   },
   "outputs": [
    {
     "data": {
      "text/html": [
       "\n",
       "<style>\n",
       "    /* Turns off some styling */\n",
       "    progress {\n",
       "        /* gets rid of default border in Firefox and Opera. */\n",
       "        border: none;\n",
       "        /* Needs to be in here for Safari polyfill so background images work as expected. */\n",
       "        background-size: auto;\n",
       "    }\n",
       "    .progress-bar-interrupted, .progress-bar-interrupted::-webkit-progress-bar {\n",
       "        background: #F44336;\n",
       "    }\n",
       "</style>\n"
      ],
      "text/plain": [
       "<IPython.core.display.HTML object>"
      ]
     },
     "metadata": {},
     "output_type": "display_data"
    },
    {
     "data": {
      "text/html": [
       "\n",
       "    <div>\n",
       "      <progress value='105070592' class='' max='105067061' style='width:300px; height:20px; vertical-align: middle;'></progress>\n",
       "      100.00% [105070592/105067061 00:01<00:00]\n",
       "    </div>\n",
       "    "
      ],
      "text/plain": [
       "<IPython.core.display.HTML object>"
      ]
     },
     "metadata": {},
     "output_type": "display_data"
    }
   ],
   "source": [
    "learn = language_model_learner(dls, AWD_LSTM, metrics = [accuracy, perplexity])"
   ]
  },
  {
   "cell_type": "code",
   "execution_count": null,
   "metadata": {
    "colab": {
     "base_uri": "https://localhost:8080/"
    },
    "id": "sNpQMPWNKS5D",
    "outputId": "203e3f0a-94a8-4e81-8132-edbf74bfefcc"
   },
   "outputs": [
    {
     "name": "stdout",
     "output_type": "stream",
     "text": [
      "Sat Mar 26 04:23:21 2022       \n",
      "+-----------------------------------------------------------------------------+\n",
      "| NVIDIA-SMI 460.32.03    Driver Version: 460.32.03    CUDA Version: 11.2     |\n",
      "|-------------------------------+----------------------+----------------------+\n",
      "| GPU  Name        Persistence-M| Bus-Id        Disp.A | Volatile Uncorr. ECC |\n",
      "| Fan  Temp  Perf  Pwr:Usage/Cap|         Memory-Usage | GPU-Util  Compute M. |\n",
      "|                               |                      |               MIG M. |\n",
      "|===============================+======================+======================|\n",
      "|   0  Tesla K80           Off  | 00000000:00:04.0 Off |                    0 |\n",
      "| N/A   73C    P0    78W / 149W |   1772MiB / 11441MiB |      0%      Default |\n",
      "|                               |                      |                  N/A |\n",
      "+-------------------------------+----------------------+----------------------+\n",
      "                                                                               \n",
      "+-----------------------------------------------------------------------------+\n",
      "| Processes:                                                                  |\n",
      "|  GPU   GI   CI        PID   Type   Process name                  GPU Memory |\n",
      "|        ID   ID                                                   Usage      |\n",
      "|=============================================================================|\n",
      "+-----------------------------------------------------------------------------+\n"
     ]
    }
   ],
   "source": [
    "!nvidia-smi"
   ]
  },
  {
   "cell_type": "code",
   "execution_count": null,
   "metadata": {
    "colab": {
     "base_uri": "https://localhost:8080/",
     "height": 300
    },
    "id": "0pO0hTN6TQgd",
    "outputId": "c9d63f39-e474-4fd0-b658-cd23b0d3ea7e"
   },
   "outputs": [
    {
     "data": {
      "text/html": [
       "\n",
       "<style>\n",
       "    /* Turns off some styling */\n",
       "    progress {\n",
       "        /* gets rid of default border in Firefox and Opera. */\n",
       "        border: none;\n",
       "        /* Needs to be in here for Safari polyfill so background images work as expected. */\n",
       "        background-size: auto;\n",
       "    }\n",
       "    .progress-bar-interrupted, .progress-bar-interrupted::-webkit-progress-bar {\n",
       "        background: #F44336;\n",
       "    }\n",
       "</style>\n"
      ],
      "text/plain": [
       "<IPython.core.display.HTML object>"
      ]
     },
     "metadata": {},
     "output_type": "display_data"
    },
    {
     "data": {
      "text/html": [],
      "text/plain": [
       "<IPython.core.display.HTML object>"
      ]
     },
     "metadata": {},
     "output_type": "display_data"
    },
    {
     "data": {
      "text/plain": [
       "SuggestedLRs(valley=0.004365158267319202)"
      ]
     },
     "execution_count": 17,
     "metadata": {},
     "output_type": "execute_result"
    },
    {
     "data": {
      "image/png": "[encoded data removed]",
      "text/plain": [
       "<Figure size 432x288 with 1 Axes>"
      ]
     },
     "metadata": {
      "needs_background": "light"
     },
     "output_type": "display_data"
    }
   ],
   "source": [
    "learn.lr_find()"
   ]
  },
  {
   "cell_type": "code",
   "execution_count": null,
   "metadata": {
    "id": "4JEX1ZyPTooN"
   },
   "outputs": [],
   "source": [
    "show_doc(text_classifier_learner)"
   ]
  },
  {
   "cell_type": "code",
   "execution_count": null,
   "metadata": {
    "colab": {
     "base_uri": "https://localhost:8080/",
     "height": 1000
    },
    "id": "C4ropxyeTj2h",
    "outputId": "6cd4a8f1-a0ad-4f84-a714-d1543fde53c4"
   },
   "outputs": [
    {
     "data": {
      "text/html": [
       "\n",
       "<style>\n",
       "    /* Turns off some styling */\n",
       "    progress {\n",
       "        /* gets rid of default border in Firefox and Opera. */\n",
       "        border: none;\n",
       "        /* Needs to be in here for Safari polyfill so background images work as expected. */\n",
       "        background-size: auto;\n",
       "    }\n",
       "    .progress-bar-interrupted, .progress-bar-interrupted::-webkit-progress-bar {\n",
       "        background: #F44336;\n",
       "    }\n",
       "</style>\n"
      ],
      "text/plain": [
       "<IPython.core.display.HTML object>"
      ]
     },
     "metadata": {},
     "output_type": "display_data"
    },
    {
     "data": {
      "text/html": [
       "<table border=\"1\" class=\"dataframe\">\n",
       "  <thead>\n",
       "    <tr style=\"text-align: left;\">\n",
       "      <th>epoch</th>\n",
       "      <th>train_loss</th>\n",
       "      <th>valid_loss</th>\n",
       "      <th>accuracy</th>\n",
       "      <th>perplexity</th>\n",
       "      <th>time</th>\n",
       "    </tr>\n",
       "  </thead>\n",
       "  <tbody>\n",
       "    <tr>\n",
       "      <td>0</td>\n",
       "      <td>4.292253</td>\n",
       "      <td>3.922483</td>\n",
       "      <td>0.252474</td>\n",
       "      <td>50.525742</td>\n",
       "      <td>00:02</td>\n",
       "    </tr>\n",
       "  </tbody>\n",
       "</table>"
      ],
      "text/plain": [
       "<IPython.core.display.HTML object>"
      ]
     },
     "metadata": {},
     "output_type": "display_data"
    },
    {
     "data": {
      "text/html": [
       "\n",
       "<style>\n",
       "    /* Turns off some styling */\n",
       "    progress {\n",
       "        /* gets rid of default border in Firefox and Opera. */\n",
       "        border: none;\n",
       "        /* Needs to be in here for Safari polyfill so background images work as expected. */\n",
       "        background-size: auto;\n",
       "    }\n",
       "    .progress-bar-interrupted, .progress-bar-interrupted::-webkit-progress-bar {\n",
       "        background: #F44336;\n",
       "    }\n",
       "</style>\n"
      ],
      "text/plain": [
       "<IPython.core.display.HTML object>"
      ]
     },
     "metadata": {},
     "output_type": "display_data"
    },
    {
     "data": {
      "text/html": [
       "<table border=\"1\" class=\"dataframe\">\n",
       "  <thead>\n",
       "    <tr style=\"text-align: left;\">\n",
       "      <th>epoch</th>\n",
       "      <th>train_loss</th>\n",
       "      <th>valid_loss</th>\n",
       "      <th>accuracy</th>\n",
       "      <th>perplexity</th>\n",
       "      <th>time</th>\n",
       "    </tr>\n",
       "  </thead>\n",
       "  <tbody>\n",
       "    <tr>\n",
       "      <td>0</td>\n",
       "      <td>4.121733</td>\n",
       "      <td>3.831645</td>\n",
       "      <td>0.264909</td>\n",
       "      <td>46.138397</td>\n",
       "      <td>00:02</td>\n",
       "    </tr>\n",
       "    <tr>\n",
       "      <td>1</td>\n",
       "      <td>4.069792</td>\n",
       "      <td>3.757095</td>\n",
       "      <td>0.268533</td>\n",
       "      <td>42.823837</td>\n",
       "      <td>00:02</td>\n",
       "    </tr>\n",
       "    <tr>\n",
       "      <td>2</td>\n",
       "      <td>4.021965</td>\n",
       "      <td>3.685192</td>\n",
       "      <td>0.274457</td>\n",
       "      <td>39.852768</td>\n",
       "      <td>00:02</td>\n",
       "    </tr>\n",
       "    <tr>\n",
       "      <td>3</td>\n",
       "      <td>3.972597</td>\n",
       "      <td>3.611061</td>\n",
       "      <td>0.275282</td>\n",
       "      <td>37.005299</td>\n",
       "      <td>00:02</td>\n",
       "    </tr>\n",
       "    <tr>\n",
       "      <td>4</td>\n",
       "      <td>3.926610</td>\n",
       "      <td>3.543352</td>\n",
       "      <td>0.285091</td>\n",
       "      <td>34.582649</td>\n",
       "      <td>00:02</td>\n",
       "    </tr>\n",
       "    <tr>\n",
       "      <td>5</td>\n",
       "      <td>3.869319</td>\n",
       "      <td>3.471813</td>\n",
       "      <td>0.287804</td>\n",
       "      <td>32.195057</td>\n",
       "      <td>00:02</td>\n",
       "    </tr>\n",
       "    <tr>\n",
       "      <td>6</td>\n",
       "      <td>3.814053</td>\n",
       "      <td>3.413671</td>\n",
       "      <td>0.291146</td>\n",
       "      <td>30.376545</td>\n",
       "      <td>00:02</td>\n",
       "    </tr>\n",
       "    <tr>\n",
       "      <td>7</td>\n",
       "      <td>3.756912</td>\n",
       "      <td>3.370538</td>\n",
       "      <td>0.293294</td>\n",
       "      <td>29.094183</td>\n",
       "      <td>00:02</td>\n",
       "    </tr>\n",
       "    <tr>\n",
       "      <td>8</td>\n",
       "      <td>3.702992</td>\n",
       "      <td>3.319654</td>\n",
       "      <td>0.299566</td>\n",
       "      <td>27.650768</td>\n",
       "      <td>00:02</td>\n",
       "    </tr>\n",
       "    <tr>\n",
       "      <td>9</td>\n",
       "      <td>3.648766</td>\n",
       "      <td>3.289167</td>\n",
       "      <td>0.303798</td>\n",
       "      <td>26.820511</td>\n",
       "      <td>00:02</td>\n",
       "    </tr>\n",
       "    <tr>\n",
       "      <td>10</td>\n",
       "      <td>3.601684</td>\n",
       "      <td>3.254647</td>\n",
       "      <td>0.303754</td>\n",
       "      <td>25.910461</td>\n",
       "      <td>00:02</td>\n",
       "    </tr>\n",
       "    <tr>\n",
       "      <td>11</td>\n",
       "      <td>3.553198</td>\n",
       "      <td>3.231998</td>\n",
       "      <td>0.307075</td>\n",
       "      <td>25.330227</td>\n",
       "      <td>00:02</td>\n",
       "    </tr>\n",
       "    <tr>\n",
       "      <td>12</td>\n",
       "      <td>3.508167</td>\n",
       "      <td>3.203548</td>\n",
       "      <td>0.312088</td>\n",
       "      <td>24.619724</td>\n",
       "      <td>00:02</td>\n",
       "    </tr>\n",
       "    <tr>\n",
       "      <td>13</td>\n",
       "      <td>3.467295</td>\n",
       "      <td>3.188381</td>\n",
       "      <td>0.310373</td>\n",
       "      <td>24.249130</td>\n",
       "      <td>00:02</td>\n",
       "    </tr>\n",
       "    <tr>\n",
       "      <td>14</td>\n",
       "      <td>3.420931</td>\n",
       "      <td>3.165095</td>\n",
       "      <td>0.310938</td>\n",
       "      <td>23.691002</td>\n",
       "      <td>00:02</td>\n",
       "    </tr>\n",
       "    <tr>\n",
       "      <td>15</td>\n",
       "      <td>3.374911</td>\n",
       "      <td>3.147958</td>\n",
       "      <td>0.312326</td>\n",
       "      <td>23.288456</td>\n",
       "      <td>00:02</td>\n",
       "    </tr>\n",
       "    <tr>\n",
       "      <td>16</td>\n",
       "      <td>3.336841</td>\n",
       "      <td>3.133843</td>\n",
       "      <td>0.318880</td>\n",
       "      <td>22.962057</td>\n",
       "      <td>00:02</td>\n",
       "    </tr>\n",
       "    <tr>\n",
       "      <td>17</td>\n",
       "      <td>3.294631</td>\n",
       "      <td>3.121999</td>\n",
       "      <td>0.321094</td>\n",
       "      <td>22.691690</td>\n",
       "      <td>00:02</td>\n",
       "    </tr>\n",
       "    <tr>\n",
       "      <td>18</td>\n",
       "      <td>3.259073</td>\n",
       "      <td>3.117041</td>\n",
       "      <td>0.321463</td>\n",
       "      <td>22.579470</td>\n",
       "      <td>00:02</td>\n",
       "    </tr>\n",
       "    <tr>\n",
       "      <td>19</td>\n",
       "      <td>3.237259</td>\n",
       "      <td>3.113189</td>\n",
       "      <td>0.326194</td>\n",
       "      <td>22.492670</td>\n",
       "      <td>00:02</td>\n",
       "    </tr>\n",
       "    <tr>\n",
       "      <td>20</td>\n",
       "      <td>3.202780</td>\n",
       "      <td>3.110877</td>\n",
       "      <td>0.326107</td>\n",
       "      <td>22.440706</td>\n",
       "      <td>00:02</td>\n",
       "    </tr>\n",
       "    <tr>\n",
       "      <td>21</td>\n",
       "      <td>3.178584</td>\n",
       "      <td>3.105933</td>\n",
       "      <td>0.327344</td>\n",
       "      <td>22.330053</td>\n",
       "      <td>00:02</td>\n",
       "    </tr>\n",
       "    <tr>\n",
       "      <td>22</td>\n",
       "      <td>3.146415</td>\n",
       "      <td>3.105536</td>\n",
       "      <td>0.327669</td>\n",
       "      <td>22.321175</td>\n",
       "      <td>00:02</td>\n",
       "    </tr>\n",
       "    <tr>\n",
       "      <td>23</td>\n",
       "      <td>3.118410</td>\n",
       "      <td>3.104410</td>\n",
       "      <td>0.326346</td>\n",
       "      <td>22.296064</td>\n",
       "      <td>00:02</td>\n",
       "    </tr>\n",
       "    <tr>\n",
       "      <td>24</td>\n",
       "      <td>3.089949</td>\n",
       "      <td>3.099746</td>\n",
       "      <td>0.328776</td>\n",
       "      <td>22.192324</td>\n",
       "      <td>00:02</td>\n",
       "    </tr>\n",
       "    <tr>\n",
       "      <td>25</td>\n",
       "      <td>3.064147</td>\n",
       "      <td>3.097808</td>\n",
       "      <td>0.328364</td>\n",
       "      <td>22.149343</td>\n",
       "      <td>00:02</td>\n",
       "    </tr>\n",
       "    <tr>\n",
       "      <td>26</td>\n",
       "      <td>3.042809</td>\n",
       "      <td>3.097092</td>\n",
       "      <td>0.327821</td>\n",
       "      <td>22.133497</td>\n",
       "      <td>00:02</td>\n",
       "    </tr>\n",
       "    <tr>\n",
       "      <td>27</td>\n",
       "      <td>3.022352</td>\n",
       "      <td>3.097156</td>\n",
       "      <td>0.328537</td>\n",
       "      <td>22.134901</td>\n",
       "      <td>00:02</td>\n",
       "    </tr>\n",
       "    <tr>\n",
       "      <td>28</td>\n",
       "      <td>3.004197</td>\n",
       "      <td>3.097075</td>\n",
       "      <td>0.328537</td>\n",
       "      <td>22.133118</td>\n",
       "      <td>00:02</td>\n",
       "    </tr>\n",
       "    <tr>\n",
       "      <td>29</td>\n",
       "      <td>2.988419</td>\n",
       "      <td>3.097079</td>\n",
       "      <td>0.328754</td>\n",
       "      <td>22.133202</td>\n",
       "      <td>00:02</td>\n",
       "    </tr>\n",
       "  </tbody>\n",
       "</table>"
      ],
      "text/plain": [
       "<IPython.core.display.HTML object>"
      ]
     },
     "metadata": {},
     "output_type": "display_data"
    }
   ],
   "source": [
    "learn.fine_tune(30, 4e-3)"
   ]
  },
  {
   "cell_type": "code",
   "execution_count": null,
   "metadata": {
    "id": "fc2XtqguTjxH"
   },
   "outputs": [],
   "source": [
    "learn.predict('Today,', n_words = 3000)"
   ]
  }
 ],
 "metadata": {
  "accelerator": "GPU",
  "colab": {
   "name": "Untitled4.ipynb",
   "provenance": []
  },
  "kernelspec": {
   "display_name": "Python 3",
   "language": "python",
   "name": "python3"
  },
  "language_info": {
   "codemirror_mode": {
    "name": "ipython",
    "version": 3
   },
   "file_extension": ".py",
   "mimetype": "text/x-python",
   "name": "python",
   "nbconvert_exporter": "python",
   "pygments_lexer": "ipython3",
   "version": "3.9.5"
  }
 },
 "nbformat": 4,
 "nbformat_minor": 1
}
